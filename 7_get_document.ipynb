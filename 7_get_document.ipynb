{
 "cells": [
  {
   "cell_type": "code",
   "execution_count": 1,
   "id": "1d35a6d0",
   "metadata": {},
   "outputs": [
    {
     "name": "stdout",
     "output_type": "stream",
     "text": [
      "connected to elasticsearch\n",
      "{'cluster_name': 'docker-cluster',\n",
      " 'cluster_uuid': 'Ptp3XLACR3-Wmx0PcdxoZA',\n",
      " 'name': 'c899a61c3425',\n",
      " 'tagline': 'You Know, for Search',\n",
      " 'version': {'build_date': '2025-08-24T22:05:04.526302670Z',\n",
      "             'build_flavor': 'default',\n",
      "             'build_hash': '0c781091a2f57de895a73a1391ff8426c0153c8d',\n",
      "             'build_snapshot': False,\n",
      "             'build_type': 'docker',\n",
      "             'lucene_version': '10.2.2',\n",
      "             'minimum_index_compatibility_version': '8.0.0',\n",
      "             'minimum_wire_compatibility_version': '8.19.0',\n",
      "             'number': '9.1.3'}}\n"
     ]
    }
   ],
   "source": [
    "from pprint import pprint\n",
    "from elasticsearch import Elasticsearch\n",
    "\n",
    "es = Elasticsearch(\n",
    "    \"https://localhost:9200\",\n",
    "    basic_auth=(\"elastic\", \"So0xTl9tCAdXqx4JniGO\"),\n",
    "    ca_certs=\"http_ca.crt\",\n",
    ")\n",
    "\n",
    "client_info = es.info()\n",
    "\n",
    "print(\"connected to elasticsearch\")\n",
    "pprint(client_info.body)\n"
   ]
  },
  {
   "cell_type": "code",
   "execution_count": null,
   "id": "b35dab60",
   "metadata": {},
   "outputs": [],
   "source": []
  }
 ],
 "metadata": {
  "kernelspec": {
   "display_name": ".venv",
   "language": "python",
   "name": "python3"
  },
  "language_info": {
   "codemirror_mode": {
    "name": "ipython",
    "version": 3
   },
   "file_extension": ".py",
   "mimetype": "text/x-python",
   "name": "python",
   "nbconvert_exporter": "python",
   "pygments_lexer": "ipython3",
   "version": "3.13.7"
  }
 },
 "nbformat": 4,
 "nbformat_minor": 5
}
