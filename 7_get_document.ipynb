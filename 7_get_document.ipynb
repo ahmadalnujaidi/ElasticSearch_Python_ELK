{
 "cells": [
  {
   "cell_type": "code",
   "execution_count": 3,
   "id": "1d35a6d0",
   "metadata": {},
   "outputs": [
    {
     "name": "stdout",
     "output_type": "stream",
     "text": [
      "connected to elasticsearch\n",
      "{'cluster_name': 'docker-cluster',\n",
      " 'cluster_uuid': 'Ptp3XLACR3-Wmx0PcdxoZA',\n",
      " 'name': 'c899a61c3425',\n",
      " 'tagline': 'You Know, for Search',\n",
      " 'version': {'build_date': '2025-08-24T22:05:04.526302670Z',\n",
      "             'build_flavor': 'default',\n",
      "             'build_hash': '0c781091a2f57de895a73a1391ff8426c0153c8d',\n",
      "             'build_snapshot': False,\n",
      "             'build_type': 'docker',\n",
      "             'lucene_version': '10.2.2',\n",
      "             'minimum_index_compatibility_version': '8.0.0',\n",
      "             'minimum_wire_compatibility_version': '8.19.0',\n",
      "             'number': '9.1.3'}}\n"
     ]
    }
   ],
   "source": [
    "from pprint import pprint\n",
    "from elasticsearch import Elasticsearch\n",
    "\n",
    "es = Elasticsearch(\n",
    "    \"https://localhost:9200\",\n",
    "    basic_auth=(\"elastic\", \"So0xTl9tCAdXqx4JniGO\"),\n",
    "    ca_certs=\"http_ca.crt\",\n",
    ")\n",
    "\n",
    "client_info = es.info()\n",
    "\n",
    "print(\"connected to elasticsearch\")\n",
    "pprint(client_info.body)\n"
   ]
  },
  {
   "cell_type": "markdown",
   "id": "9e7b1a85",
   "metadata": {},
   "source": [
    "#### index documents"
   ]
  },
  {
   "cell_type": "code",
   "execution_count": 4,
   "id": "b0e9f743",
   "metadata": {},
   "outputs": [
    {
     "data": {
      "text/plain": [
       "ObjectApiResponse({'acknowledged': True, 'shards_acknowledged': True, 'index': 'my_index'})"
      ]
     },
     "execution_count": 4,
     "metadata": {},
     "output_type": "execute_result"
    }
   ],
   "source": [
    "es.indices.delete(index=\"my_index\", ignore_unavailable=True)\n",
    "es.indices.create(index=\"my_index\")"
   ]
  },
  {
   "cell_type": "code",
   "execution_count": 5,
   "id": "4ff5e670",
   "metadata": {},
   "outputs": [
    {
     "name": "stderr",
     "output_type": "stream",
     "text": [
      "100%|██████████| 3/3 [00:00<00:00,  8.95it/s]\n"
     ]
    }
   ],
   "source": [
    "import json\n",
    "from tqdm import tqdm\n",
    "\n",
    "document_ids = []\n",
    "dummy_data = json.load(open(\"./data/dummy_data.json\"))\n",
    "for doc in tqdm(dummy_data):\n",
    "    response = es.index(index=\"my_index\", document=doc)\n",
    "    document_ids.append(response[\"_id\"])\n"
   ]
  },
  {
   "cell_type": "code",
   "execution_count": 6,
   "id": "7ad8b6fd",
   "metadata": {},
   "outputs": [
    {
     "data": {
      "text/plain": [
       "['Y7vOUJkBtbsJOPHsxygL', 'ZLvOUJkBtbsJOPHsyCgX', 'ZbvOUJkBtbsJOPHsyChM']"
      ]
     },
     "execution_count": 6,
     "metadata": {},
     "output_type": "execute_result"
    }
   ],
   "source": [
    "document_ids"
   ]
  },
  {
   "cell_type": "code",
   "execution_count": 8,
   "id": "891b677c",
   "metadata": {},
   "outputs": [],
   "source": [
    "response = es.get(index=\"my_index\", id=document_ids[0])"
   ]
  },
  {
   "cell_type": "code",
   "execution_count": 9,
   "id": "8398de4b",
   "metadata": {},
   "outputs": [
    {
     "name": "stdout",
     "output_type": "stream",
     "text": [
      "{'_id': 'Y7vOUJkBtbsJOPHsxygL',\n",
      " '_index': 'my_index',\n",
      " '_primary_term': 1,\n",
      " '_seq_no': 0,\n",
      " '_source': {'created_on': '2024-09-22',\n",
      "             'text': 'This is the first sample document text.',\n",
      "             'title': 'Sample Title 1'},\n",
      " '_version': 1,\n",
      " 'found': True}\n"
     ]
    }
   ],
   "source": [
    "pprint(response.body)"
   ]
  },
  {
   "cell_type": "code",
   "execution_count": 10,
   "id": "8ff58c08",
   "metadata": {},
   "outputs": [
    {
     "name": "stdout",
     "output_type": "stream",
     "text": [
      "Document not found\n",
      "NotFoundError(404, \"{'_index': 'my_index', '_id': 'non_existing_id', 'found': False}\")\n"
     ]
    }
   ],
   "source": [
    "try:\n",
    "    response = es.get(index=\"my_index\", id=\"non_existing_id\")\n",
    "except Exception as e:\n",
    "    print(\"Document not found\")\n",
    "    print(e)"
   ]
  }
 ],
 "metadata": {
  "kernelspec": {
   "display_name": ".venv",
   "language": "python",
   "name": "python3"
  },
  "language_info": {
   "codemirror_mode": {
    "name": "ipython",
    "version": 3
   },
   "file_extension": ".py",
   "mimetype": "text/x-python",
   "name": "python",
   "nbconvert_exporter": "python",
   "pygments_lexer": "ipython3",
   "version": "3.13.7"
  }
 },
 "nbformat": 4,
 "nbformat_minor": 5
}
