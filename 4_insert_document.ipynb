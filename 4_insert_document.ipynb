{
 "cells": [
  {
   "cell_type": "markdown",
   "id": "f1e48140",
   "metadata": {},
   "source": [
    "## CONNECT TO ELASTICSEARCH"
   ]
  },
  {
   "cell_type": "code",
   "execution_count": 2,
   "id": "1e63a55a",
   "metadata": {},
   "outputs": [
    {
     "name": "stdout",
     "output_type": "stream",
     "text": [
      "connected to elasticsearch\n",
      "{'cluster_name': 'docker-cluster',\n",
      " 'cluster_uuid': 'Ptp3XLACR3-Wmx0PcdxoZA',\n",
      " 'name': 'c899a61c3425',\n",
      " 'tagline': 'You Know, for Search',\n",
      " 'version': {'build_date': '2025-08-24T22:05:04.526302670Z',\n",
      "             'build_flavor': 'default',\n",
      "             'build_hash': '0c781091a2f57de895a73a1391ff8426c0153c8d',\n",
      "             'build_snapshot': False,\n",
      "             'build_type': 'docker',\n",
      "             'lucene_version': '10.2.2',\n",
      "             'minimum_index_compatibility_version': '8.0.0',\n",
      "             'minimum_wire_compatibility_version': '8.19.0',\n",
      "             'number': '9.1.3'}}\n"
     ]
    }
   ],
   "source": [
    "from pprint import pprint\n",
    "from elasticsearch import Elasticsearch\n",
    "\n",
    "es = Elasticsearch(\n",
    "    \"https://localhost:9200\",\n",
    "    basic_auth=(\"elastic\", \"So0xTl9tCAdXqx4JniGO\"),\n",
    "    ca_certs=\"http_ca.crt\",\n",
    ")\n",
    "\n",
    "client_info = es.info()\n",
    "\n",
    "print(\"connected to elasticsearch\")\n",
    "pprint(client_info.body)\n"
   ]
  },
  {
   "cell_type": "markdown",
   "id": "d195b291",
   "metadata": {},
   "source": [
    "### Insert One Document"
   ]
  },
  {
   "cell_type": "code",
   "execution_count": 3,
   "id": "b685c503",
   "metadata": {},
   "outputs": [
    {
     "data": {
      "text/plain": [
       "ObjectApiResponse({'acknowledged': True, 'shards_acknowledged': True, 'index': 'my_index'})"
      ]
     },
     "execution_count": 3,
     "metadata": {},
     "output_type": "execute_result"
    }
   ],
   "source": [
    "es.indices.delete(index=\"my_index\", ignore_unavailable=True)\n",
    "es.indices.create(index=\"my_index\")\n"
   ]
  },
  {
   "cell_type": "code",
   "execution_count": 4,
   "id": "e78c5588",
   "metadata": {},
   "outputs": [
    {
     "data": {
      "text/plain": [
       "ObjectApiResponse({'_index': 'my_index', '_id': 'JZUbTJkBza3mxyTR46Wn', '_version': 1, 'result': 'created', '_shards': {'total': 2, 'successful': 1, 'failed': 0}, '_seq_no': 0, '_primary_term': 1})"
      ]
     },
     "execution_count": 4,
     "metadata": {},
     "output_type": "execute_result"
    }
   ],
   "source": [
    "document = {\n",
    "    \"title\": 'title',\n",
    "    \"text\": 'text',\n",
    "    \"crated_on\": '2024-09-22'\n",
    "}\n",
    "response = es.index(index=\"my_index\", body=document)\n",
    "response"
   ]
  },
  {
   "cell_type": "code",
   "execution_count": 5,
   "id": "f81c4d09",
   "metadata": {},
   "outputs": [
    {
     "name": "stdout",
     "output_type": "stream",
     "text": [
      "created\n"
     ]
    }
   ],
   "source": [
    "print(response['result'])"
   ]
  },
  {
   "cell_type": "code",
   "execution_count": 6,
   "id": "92d52c58",
   "metadata": {},
   "outputs": [
    {
     "name": "stdout",
     "output_type": "stream",
     "text": [
      "{'total': 2, 'successful': 1, 'failed': 0}\n"
     ]
    }
   ],
   "source": [
    "print(response['_shards'])"
   ]
  },
  {
   "cell_type": "code",
   "execution_count": 7,
   "id": "6b92a6e3",
   "metadata": {},
   "outputs": [
    {
     "name": "stdout",
     "output_type": "stream",
     "text": [
      "JZUbTJkBza3mxyTR46Wn\n"
     ]
    }
   ],
   "source": [
    "print(response['_id'])"
   ]
  },
  {
   "cell_type": "code",
   "execution_count": 8,
   "id": "1f5ddc6f",
   "metadata": {},
   "outputs": [
    {
     "name": "stdout",
     "output_type": "stream",
     "text": [
      "my_index\n"
     ]
    }
   ],
   "source": [
    "print((response['_index']))"
   ]
  },
  {
   "cell_type": "markdown",
   "id": "98147df1",
   "metadata": {},
   "source": [
    "#### Insert multiple documents\n"
   ]
  },
  {
   "cell_type": "code",
   "execution_count": 10,
   "id": "58ecd85e",
   "metadata": {},
   "outputs": [
    {
     "data": {
      "text/plain": [
       "[{'title': 'Sample Title 1',\n",
       "  'text': 'This is the first sample document text.',\n",
       "  'created_on': '2024-09-22'},\n",
       " {'title': 'Sample Title 2',\n",
       "  'text': 'Here is another example of a document.',\n",
       "  'created_on': '2024-09-24'},\n",
       " {'title': 'Sample Title 3',\n",
       "  'text': 'The content of the third document goes here.',\n",
       "  'created_on': '2024-09-24'}]"
      ]
     },
     "execution_count": 10,
     "metadata": {},
     "output_type": "execute_result"
    }
   ],
   "source": [
    "import json\n",
    "\n",
    "dummy_data = json.load(open('./data/dummy_data.json'))\n",
    "dummy_data"
   ]
  },
  {
   "cell_type": "code",
   "execution_count": 11,
   "id": "012fa163",
   "metadata": {},
   "outputs": [
    {
     "name": "stdout",
     "output_type": "stream",
     "text": [
      "Document ID: JpUiTJkBza3mxyTRIKW9 is 'created' and is split into 2 shards.\n",
      "Document ID: J5UiTJkBza3mxyTRIaWh is 'created' and is split into 2 shards.\n",
      "Document ID: KJUiTJkBza3mxyTRIaX5 is 'created' and is split into 2 shards.\n"
     ]
    }
   ],
   "source": [
    "def insert_doc(document):\n",
    "    response = es.index(index=\"my_index\", body=document)\n",
    "    return response\n",
    "\n",
    "def print_info(response):\n",
    "    print(f\"\"\"Document ID: {response['_id']} is '{response['result']}' and is split into {response['_shards']['total']} shards.\"\"\")\n",
    "\n",
    "for document in dummy_data:\n",
    "    response = insert_doc(document)\n",
    "    print_info(response)"
   ]
  },
  {
   "cell_type": "markdown",
   "id": "cb762778",
   "metadata": {},
   "source": [
    "##### print mapping"
   ]
  },
  {
   "cell_type": "code",
   "execution_count": 13,
   "id": "2d6fc5f8",
   "metadata": {},
   "outputs": [
    {
     "name": "stdout",
     "output_type": "stream",
     "text": [
      "{'crated_on': {'type': 'date'},\n",
      " 'created_on': {'type': 'date'},\n",
      " 'text': {'fields': {'keyword': {'ignore_above': 256, 'type': 'keyword'}},\n",
      "          'type': 'text'},\n",
      " 'title': {'fields': {'keyword': {'ignore_above': 256, 'type': 'keyword'}},\n",
      "           'type': 'text'}}\n"
     ]
    }
   ],
   "source": [
    "from pprint import pprint\n",
    "\n",
    "index_mapping = es.indices.get_mapping(index=\"my_index\")\n",
    "pprint(index_mapping['my_index']['mappings']['properties'])"
   ]
  },
  {
   "cell_type": "code",
   "execution_count": null,
   "id": "28679e95",
   "metadata": {},
   "outputs": [],
   "source": [
    "#### manual mapping"
   ]
  },
  {
   "cell_type": "code",
   "execution_count": 14,
   "id": "df4d1b66",
   "metadata": {},
   "outputs": [
    {
     "name": "stdout",
     "output_type": "stream",
     "text": [
      "{'created_on': {'type': 'date'},\n",
      " 'text': {'fields': {'keyword': {'ignore_above': 256, 'type': 'keyword'}},\n",
      "          'type': 'text'},\n",
      " 'title': {'fields': {'keyword': {'ignore_above': 256, 'type': 'keyword'}},\n",
      "           'type': 'text'}}\n"
     ]
    }
   ],
   "source": [
    "es.indices.delete(index=\"my_index\", ignore_unavailable=True)\n",
    "es.indices.create(index=\"my_index\")\n",
    "\n",
    "mapping = {\n",
    "    \"properties\": {\n",
    "        \"created_on\": {\"type\": \"date\"},\n",
    "\n",
    "        'text': {\n",
    "            \"type\": 'text',\n",
    "            'fields':{\n",
    "                'keyword':{\n",
    "                    'type': 'keyword',\n",
    "                    'ignore_above': 256\n",
    "                }\n",
    "            }\n",
    "        },\n",
    "\n",
    "        'title': {\n",
    "            'type': 'text',\n",
    "            'fields': {\n",
    "                'keyword':{\n",
    "                    'type': 'keyword',\n",
    "                    'ignore_above': 256\n",
    "                    }\n",
    "            }\n",
    "        }\n",
    "    }\n",
    "}\n",
    "\n",
    "es.indices.put_mapping(index=\"my_index\", body=mapping)\n",
    "\n",
    "index_mapping = es.indices.get_mapping(index=\"my_index\")\n",
    "pprint(index_mapping['my_index']['mappings']['properties'])"
   ]
  },
  {
   "cell_type": "code",
   "execution_count": 15,
   "id": "9a0b6bf7",
   "metadata": {},
   "outputs": [
    {
     "name": "stdout",
     "output_type": "stream",
     "text": [
      "{'created_on': {'type': 'date'},\n",
      " 'text': {'fields': {'keyword': {'ignore_above': 256, 'type': 'keyword'}},\n",
      "          'type': 'text'},\n",
      " 'title': {'fields': {'keyword': {'ignore_above': 256, 'type': 'keyword'}},\n",
      "           'type': 'text'}}\n"
     ]
    }
   ],
   "source": [
    "mapping = {\n",
    "    \"properties\": {\n",
    "        \"created_on\": {\"type\": \"date\"},\n",
    "\n",
    "        'text': {\n",
    "            \"type\": 'text',\n",
    "            'fields':{\n",
    "                'keyword':{\n",
    "                    'type': 'keyword',\n",
    "                    'ignore_above': 256\n",
    "                }\n",
    "            }\n",
    "        },\n",
    "\n",
    "        'title': {\n",
    "            'type': 'text',\n",
    "            'fields': {\n",
    "                'keyword':{\n",
    "                    'type': 'keyword',\n",
    "                    'ignore_above': 256\n",
    "                    }\n",
    "            }\n",
    "        }\n",
    "    }\n",
    "}\n",
    "\n",
    "es.indices.delete(index=\"my_index\", ignore_unavailable=True)\n",
    "es.indices.create(index=\"my_index\", mappings=mapping)\n",
    "\n",
    "\n",
    "index_mapping = es.indices.get_mapping(index=\"my_index\")\n",
    "pprint(index_mapping['my_index']['mappings']['properties'])"
   ]
  }
 ],
 "metadata": {
  "kernelspec": {
   "display_name": ".venv",
   "language": "python",
   "name": "python3"
  },
  "language_info": {
   "codemirror_mode": {
    "name": "ipython",
    "version": 3
   },
   "file_extension": ".py",
   "mimetype": "text/x-python",
   "name": "python",
   "nbconvert_exporter": "python",
   "pygments_lexer": "ipython3",
   "version": "3.13.7"
  }
 },
 "nbformat": 4,
 "nbformat_minor": 5
}
